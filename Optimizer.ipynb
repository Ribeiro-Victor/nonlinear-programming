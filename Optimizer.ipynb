{
 "cells": [
  {
   "cell_type": "markdown",
   "id": "af9dd826",
   "metadata": {},
   "source": [
    "<h1 style=\"text-align: center;\">Trabalho Computacional - Otimização - 2022.2</p>"
   ]
  },
  {
   "cell_type": "markdown",
   "id": "66f516e4",
   "metadata": {},
   "source": [
    "**Universidade Federal do Rio de Janeiro - PESC**  \n",
    "**Professores:** Laura Bahiense e Luidi Simonetti  \n",
    "**Alunos:** Leonardo Nunes Guimarães Costa e Victor Ribeiro "
   ]
  },
  {
   "cell_type": "markdown",
   "id": "6e1b8229",
   "metadata": {},
   "source": [
    "## Objetivo\n"
   ]
  },
  {
   "cell_type": "markdown",
   "id": "0c3c5ab1",
   "metadata": {},
   "source": [
    "Minizar computacionalmente a seguinte função:"
   ]
  },
  {
   "cell_type": "markdown",
   "id": "7a3a16c2",
   "metadata": {},
   "source": [
    "\\begin{equation*}\n",
    "    f(x_1, x_2) = \\sqrt{ln^2(x_1)+ln^2(x_2)} \\qquad \n",
    "\\end{equation*}"
   ]
  },
  {
   "cell_type": "markdown",
   "id": "e1323034",
   "metadata": {},
   "source": [
    "### Bibliotecas usadas"
   ]
  },
  {
   "cell_type": "code",
   "execution_count": 1,
   "id": "f4a6ee4b",
   "metadata": {},
   "outputs": [
    {
     "ename": "ModuleNotFoundError",
     "evalue": "No module named 'matplotlib'",
     "output_type": "error",
     "traceback": [
      "\u001b[0;31m---------------------------------------------------------------------------\u001b[0m",
      "\u001b[0;31mModuleNotFoundError\u001b[0m                       Traceback (most recent call last)",
      "Cell \u001b[0;32mIn[1], line 1\u001b[0m\n\u001b[0;32m----> 1\u001b[0m \u001b[38;5;28;01mimport\u001b[39;00m \u001b[38;5;21;01mmatplotlib\u001b[39;00m\u001b[38;5;21;01m.\u001b[39;00m\u001b[38;5;21;01mpyplot\u001b[39;00m \u001b[38;5;28;01mas\u001b[39;00m \u001b[38;5;21;01mplt\u001b[39;00m\n\u001b[1;32m      2\u001b[0m \u001b[38;5;28;01mimport\u001b[39;00m \u001b[38;5;21;01mnumpy\u001b[39;00m \u001b[38;5;28;01mas\u001b[39;00m \u001b[38;5;21;01mnp\u001b[39;00m\n\u001b[1;32m      3\u001b[0m \u001b[38;5;28;01mimport\u001b[39;00m \u001b[38;5;21;01msympy\u001b[39;00m \u001b[38;5;28;01mas\u001b[39;00m \u001b[38;5;21;01msp\u001b[39;00m\n",
      "\u001b[0;31mModuleNotFoundError\u001b[0m: No module named 'matplotlib'"
     ]
    }
   ],
   "source": [
    "import matplotlib.pyplot as plt\n",
    "import numpy as np\n",
    "import sympy as sp"
   ]
  },
  {
   "cell_type": "markdown",
   "id": "93c174c0",
   "metadata": {},
   "source": [
    "### Método para cálculo do valor da função em um ponto $(x_1, x_2)$"
   ]
  },
  {
   "cell_type": "code",
   "execution_count": null,
   "id": "a4b5f0f3",
   "metadata": {},
   "outputs": [],
   "source": [
    "def func_value(x1, x2):\n",
    "    ''' Dado dois pontos x1 e x2, retorna o valor da função f(x1, x2)'''\n",
    "    return np.sqrt(np.log(x1)**2 + np.log(x2)**2)"
   ]
  },
  {
   "cell_type": "markdown",
   "id": "02d94a41",
   "metadata": {},
   "source": [
    "### Método para construir gráficos da função"
   ]
  },
  {
   "cell_type": "code",
   "execution_count": null,
   "id": "a6ad9ee6",
   "metadata": {},
   "outputs": [],
   "source": [
    "def plotFunction(x1, x2):\n",
    "    '''Dados os intervalos de x1 e x2, retorna os gráficos e curva de nível da função nesse intervalo.'''\n",
    "    fig = plt.figure(figsize=(24,8))\n",
    "    color = 'inferno'\n",
    "\n",
    "    # First subplot\n",
    "    ax = fig.add_subplot(1, 3, 1, projection='3d')\n",
    "\n",
    "    X1 = np.linspace(x1[0], x1[1])\n",
    "    X2 = np.linspace(x2[0], x2[1])\n",
    "    X1, X2 = np.meshgrid(X1, X2)\n",
    "    Z = func_value(X1, X2)\n",
    "    ax.plot_surface(X1, X2, Z, rstride=1, cstride=1,\n",
    "                    cmap=color, edgecolor='none')\n",
    "    ax.set_xlabel('x1')\n",
    "    ax.set_ylabel('x2')\n",
    "    ax.set_zlabel('f')\n",
    "    ax.view_init(25, 35)\n",
    "\n",
    "    # Second subplot\n",
    "    ax = fig.add_subplot(1, 3, 2, projection='3d')\n",
    "\n",
    "    ax.plot_surface(X1, X2, Z, rstride=1, cstride=1,\n",
    "                    cmap=color, edgecolor='none')\n",
    "    ax.set_xlabel('x1')\n",
    "    ax.set_ylabel('x2')\n",
    "    ax.set_zlabel('f')\n",
    "    ax.view_init(15, 205)\n",
    "\n",
    "\n",
    "    # Third subplot - Contour line\n",
    "    ax = fig.add_subplot(1, 3, 3)\n",
    "    h = ax.contourf(X1, X2, Z, cmap=color)\n",
    "    plt.axis('scaled')\n",
    "    fig.colorbar(h, shrink=0.7)\n",
    "    \n",
    "    plt.show()"
   ]
  },
  {
   "cell_type": "markdown",
   "id": "aa844bdd",
   "metadata": {},
   "source": [
    "## Estudo da Função"
   ]
  },
  {
   "cell_type": "markdown",
   "id": "44b07a68",
   "metadata": {},
   "source": [
    "\\begin{equation*}\n",
    "    f(x_1, x_2) = \\sqrt{ln^2(x_1)+ln^2(x_2)} \\qquad \\Omega = \\R^2\n",
    "\\end{equation*}"
   ]
  },
  {
   "cell_type": "markdown",
   "id": "64667c8d",
   "metadata": {},
   "source": [
    "Para encontrar os pontos críticos, vamos calcular o gradiente da função."
   ]
  },
  {
   "cell_type": "markdown",
   "id": "04bf5f22",
   "metadata": {},
   "source": [
    "\\begin{equation*}\n",
    "  \\nabla f(x_1, x_2) = \\left( \\frac{\\partial{f(x_1, x_2)}}{\\partial{x_1}}, \\frac{\\partial{f(x_1, x_2)}}{\\partial{x_2}} \\right)\n",
    "\\end{equation*}"
   ]
  },
  {
   "cell_type": "markdown",
   "id": "f23f6956",
   "metadata": {},
   "source": [
    "\\begin{equation*}\n",
    "  \\nabla f(x_1, x_2) = \\left( \\frac{\\ln(x_1)}{x_1\\sqrt{\\ln^2(x_1)+\\ln^2(x_2)}}, \\frac{\\ln(x_2)}{x_2\\sqrt{\\ln^2(x_1)+\\ln^2(x_2)}} \\right)\n",
    "\\end{equation*}"
   ]
  },
  {
   "cell_type": "markdown",
   "id": "0940af37",
   "metadata": {},
   "source": [
    "Para o ponto crítico, devemos encontrar os valores de $ (x_1, x_2) $ em que o numerador seja igual a 0."
   ]
  },
  {
   "cell_type": "markdown",
   "id": "67a4cfc9",
   "metadata": {},
   "source": [
    "\\begin{equation*}\n",
    "    ( \\ln(x_1), \\ln(x_2) ) = (0,0) \\qquad \\Rightarrow \\qquad (x_1, x_2) = (1,1)\n",
    "\\end{equation*}"
   ]
  },
  {
   "cell_type": "markdown",
   "id": "694a4e82",
   "metadata": {},
   "source": [
    "Para compreender melhor o comportamento da função, foram utilizados os gráficos e curvas de nível abaixo."
   ]
  },
  {
   "cell_type": "code",
   "execution_count": null,
   "id": "3245dcd8",
   "metadata": {},
   "outputs": [],
   "source": [
    "plotFunction(x1=[0.1, 100], x2=[0.1, 100])"
   ]
  },
  {
   "cell_type": "code",
   "execution_count": null,
   "id": "cfddd9fe",
   "metadata": {},
   "outputs": [],
   "source": [
    "plotFunction(x1=[0.1, 2], x2=[0.1, 2])"
   ]
  },
  {
   "cell_type": "markdown",
   "id": "ea5838f8",
   "metadata": {},
   "source": [
    "### 2 - Iterate over "
   ]
  },
  {
   "cell_type": "code",
   "execution_count": null,
   "id": "c73b9667",
   "metadata": {},
   "outputs": [],
   "source": [
    "def nextPoint(currentPoint, objectiveFunction, minOrMax, constraintsList, kwargs):\n",
    "    if (kwargs.iterationLimit = 0): \n",
    "        return currentPoint, \"Iteration Limit Reached\"\n",
    "    evaluation = #todo\n",
    "    if (kwargs.backEvaluation - evaluation <= kwargs.epsolon*minOrMax && kwargs.stepSize <= kwargs.epsolon): \n",
    "        return currentPoint, \"\"\n",
    "    direction = #todo\n",
    "    stepSize = #todo\n",
    "    newPoint = #todo\n",
    "    return nextPoint(newPoint, objectiveFunction, minOrMax, constraintsList, kwargs\"\"\"modfyied\"\"\")"
   ]
  }
 ],
 "metadata": {
  "kernelspec": {
   "display_name": "Python 3 (ipykernel)",
   "language": "python",
   "name": "python3"
  },
  "language_info": {
   "codemirror_mode": {
    "name": "ipython",
    "version": 3
   },
   "file_extension": ".py",
   "mimetype": "text/x-python",
   "name": "python",
   "nbconvert_exporter": "python",
   "pygments_lexer": "ipython3",
   "version": "3.8.10"
  },
  "vscode": {
   "interpreter": {
    "hash": "a6932bc458483f3a29ec9950cf6424a2de735a02e9ad154ae63ded39f0fad700"
   }
  }
 },
 "nbformat": 4,
 "nbformat_minor": 5
}
