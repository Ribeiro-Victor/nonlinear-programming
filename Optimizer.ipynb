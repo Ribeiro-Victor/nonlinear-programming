{
 "cells": [
  {
   "attachments": {},
   "cell_type": "markdown",
   "id": "af9dd826",
   "metadata": {},
   "source": [
    "<h1 style=\"text-align: center;\">Trabalho Computacional - Otimização - 2022.2</p>"
   ]
  },
  {
   "attachments": {},
   "cell_type": "markdown",
   "id": "66f516e4",
   "metadata": {},
   "source": [
    "**Universidade Federal do Rio de Janeiro - PESC**  \n",
    "**Professores:** Laura Bahiense e Luidi Simonetti  \n",
    "**Alunos:** Leonardo Nunes Guimarães Costa e Victor Ribeiro "
   ]
  },
  {
   "attachments": {},
   "cell_type": "markdown",
   "id": "6c394136",
   "metadata": {},
   "source": [
    "## Objective"
   ]
  },
  {
   "cell_type": "markdown",
   "id": "c63da727",
   "metadata": {},
   "source": [
    "Given an input of a point in the R² domain, an objective function, a direction of optmization(max, min), a list of constraints k and arbitraty numbers(number small enough and iterations limit) at each iteration finding a better point until find the best one, if possible.\n",
    "\n"
   ]
  },
  {
   "cell_type": "markdown",
   "id": "e14a21a4",
   "metadata": {},
   "source": [
    "## Specifications\n"
   ]
  },
  {
   "attachments": {},
   "cell_type": "markdown",
   "id": "72686b59",
   "metadata": {},
   "source": [
    "With the inputs the following steps are made:"
   ]
  },
  {
   "attachments": {},
   "cell_type": "markdown",
   "id": "e1323034",
   "metadata": {},
   "source": [
    "### Bibliotecas usadas"
   ]
  },
  {
   "cell_type": "code",
   "execution_count": null,
   "id": "f4a6ee4b",
   "metadata": {},
   "outputs": [],
   "source": [
    "import matplotlib.pyplot as plt\n",
    "import numpy as np"
   ]
  },
  {
   "attachments": {},
   "cell_type": "markdown",
   "id": "93c174c0",
   "metadata": {},
   "source": [
    "### Método para cálculo do valor da função em um ponto $(x_1, x_2)$"
   ]
  },
  {
   "cell_type": "code",
   "execution_count": null,
   "id": "a4b5f0f3",
   "metadata": {},
   "outputs": [],
   "source": [
    "def func_value(x1, x2):\n",
    "    ''' Dado dois pontos x1 e x2, retorna o valor da função f(x1, x2)'''\n",
    "    return np.sqrt(np.log(x1)**2 + np.log(x2)**2)"
   ]
  },
  {
   "attachments": {},
   "cell_type": "markdown",
   "id": "02d94a41",
   "metadata": {},
   "source": [
    "### Método para construir gráficos da função"
   ]
  },
  {
   "cell_type": "code",
   "execution_count": null,
   "id": "a6ad9ee6",
   "metadata": {},
   "outputs": [],
   "source": [
    "def plotFunction(x1, x2):\n",
    "    '''Dados os intervalos de x1 e x2, retorna os gráficos e curva de nível da função nesse intervalo.'''\n",
    "    fig = plt.figure(figsize=(24,8))\n",
    "    color = 'inferno'\n",
    "\n",
    "    # First subplot\n",
    "    ax = fig.add_subplot(1, 3, 1, projection='3d')\n",
    "\n",
    "    X1 = np.linspace(x1[0], x1[1])\n",
    "    X2 = np.linspace(x2[0], x2[1])\n",
    "    X1, X2 = np.meshgrid(X1, X2)\n",
    "    Z = func_value(X1, X2)\n",
    "    ax.plot_surface(X1, X2, Z, rstride=1, cstride=1,\n",
    "                    cmap=color, edgecolor='none')\n",
    "    ax.set_xlabel('x1')\n",
    "    ax.set_ylabel('x2')\n",
    "    ax.set_zlabel('f')\n",
    "    ax.view_init(25, 35)\n",
    "\n",
    "    # Second subplot\n",
    "    ax = fig.add_subplot(1, 3, 2, projection='3d')\n",
    "\n",
    "    ax.plot_surface(X1, X2, Z, rstride=1, cstride=1,\n",
    "                    cmap=color, edgecolor='none')\n",
    "    ax.set_xlabel('x1')\n",
    "    ax.set_ylabel('x2')\n",
    "    ax.set_zlabel('f')\n",
    "    ax.view_init(15, 205)\n",
    "\n",
    "\n",
    "    # Third subplot - Contour line\n",
    "    ax = fig.add_subplot(1, 3, 3)\n",
    "    h = ax.contourf(X1, X2, Z, cmap=color)\n",
    "    plt.axis('scaled')\n",
    "    fig.colorbar(h, shrink=0.7)\n",
    "    \n",
    "    plt.show()"
   ]
  },
  {
   "attachments": {},
   "cell_type": "markdown",
   "id": "aa844bdd",
   "metadata": {},
   "source": [
    "## Estudo da Função"
   ]
  },
  {
   "attachments": {},
   "cell_type": "markdown",
   "id": "44b07a68",
   "metadata": {},
   "source": [
    "\\begin{equation*}\n",
    "    f(x_1, x_2) = \\sqrt{ln^2(x_1)+ln^2(x_2)} \\qquad \\Omega = \\R^2\n",
    "\\end{equation*}"
   ]
  },
  {
   "attachments": {},
   "cell_type": "markdown",
   "id": "64667c8d",
   "metadata": {},
   "source": [
    "Para encontrar os pontos críticos, vamos calcular o gradiente da função."
   ]
  },
  {
   "attachments": {},
   "cell_type": "markdown",
   "id": "04bf5f22",
   "metadata": {},
   "source": [
    "\\begin{equation*}\n",
    "  \\nabla f(x_1, x_2) = \\left( \\frac{\\partial{f(x_1, x_2)}}{\\partial{x_1}}, \\frac{\\partial{f(x_1, x_2)}}{\\partial{x_2}} \\right)\n",
    "\\end{equation*}"
   ]
  },
  {
   "attachments": {},
   "cell_type": "markdown",
   "id": "f23f6956",
   "metadata": {},
   "source": [
    "\\begin{equation*}\n",
    "  \\nabla f(x_1, x_2) = \\left( \\frac{\\ln(x_1)}{x_1\\sqrt{\\ln^2(x_1)+\\ln^2(x_2)}}, \\frac{\\ln(x_2)}{x_2\\sqrt{\\ln^2(x_1)+\\ln^2(x_2)}} \\right)\n",
    "\\end{equation*}"
   ]
  },
  {
   "attachments": {},
   "cell_type": "markdown",
   "id": "0940af37",
   "metadata": {},
   "source": [
    "Para o ponto crítico, devemos encontrar os valores de $ (x_1, x_2) $ em que o numerador seja igual a 0."
   ]
  },
  {
   "attachments": {},
   "cell_type": "markdown",
   "id": "67a4cfc9",
   "metadata": {},
   "source": [
    "\\begin{equation*}\n",
    "    ( \\ln(x_1), \\ln(x_2) ) = (0,0) \\qquad \\Rightarrow \\qquad (x_1, x_2) = (1,1)\n",
    "\\end{equation*}"
   ]
  },
  {
   "attachments": {},
   "cell_type": "markdown",
   "id": "694a4e82",
   "metadata": {},
   "source": [
    "Para compreender melhor o comportamento da função, foram utilizados os gráficos e curvas de nível abaixo."
   ]
  },
  {
   "cell_type": "code",
   "execution_count": null,
   "id": "3245dcd8",
   "metadata": {},
   "outputs": [],
   "source": [
    "plotFunction(x1=[0.1, 100], x2=[0.1, 100])"
   ]
  },
  {
   "cell_type": "code",
   "execution_count": null,
   "id": "cfddd9fe",
   "metadata": {},
   "outputs": [],
   "source": [
    "plotFunction(x1=[0.1, 2], x2=[0.1, 2])"
   ]
  },
  {
   "cell_type": "markdown",
   "id": "fc41befd",
   "metadata": {},
   "source": [
    "### 1 - Check if there's a Feasible Region"
   ]
  },
  {
   "cell_type": "code",
   "execution_count": null,
   "id": "0a0c4e7c",
   "metadata": {},
   "outputs": [],
   "source": [
    "def checkFeasibility(constraintsList):\n",
    "    #To do\n",
    "    pass"
   ]
  },
  {
   "cell_type": "markdown",
   "id": "ea5838f8",
   "metadata": {},
   "source": [
    "### 2 - Iterate over "
   ]
  },
  {
   "cell_type": "code",
   "execution_count": null,
   "id": "c73b9667",
   "metadata": {},
   "outputs": [],
   "source": [
    "def nextPoint(currentPoint, objectiveFunction, minOrMax, constraintsList, kwargs):\n",
    "    if (kwargs.iterationLimit = 0): \n",
    "        return currentPoint, \"Iteration Limit Reached\"\n",
    "    evaluation = #todo\n",
    "    if (kwargs.backEvaluation - evaluation <= kwargs.epsolon*minOrMax && kwargs.stepSize <= kwargs.epsolon): \n",
    "        return currentPoint, \"\"\n",
    "    direction = #todo\n",
    "    stepSize = #todo\n",
    "    newPoint = #todo\n",
    "    return nextPoint(newPoint, objectiveFunction, minOrMax, constraintsList, kwargs\"\"\"modfyied\"\"\")"
   ]
  },
  {
   "cell_type": "markdown",
   "id": "f8917642",
   "metadata": {},
   "source": [
    "## Some Functions"
   ]
  },
  {
   "cell_type": "markdown",
   "id": "65576a2f",
   "metadata": {},
   "source": [
    "## Some Constraints\n"
   ]
  },
  {
   "cell_type": "markdown",
   "id": "31006df6",
   "metadata": {},
   "source": [
    "## Results\n"
   ]
  }
 ],
 "metadata": {
  "kernelspec": {
   "display_name": "base",
   "language": "python",
   "name": "python3"
  },
  "language_info": {
   "codemirror_mode": {
    "name": "ipython",
    "version": 3
   },
   "file_extension": ".py",
   "mimetype": "text/x-python",
   "name": "python",
   "nbconvert_exporter": "python",
   "pygments_lexer": "ipython3",
   "version": "3.9.13"
  },
  "vscode": {
   "interpreter": {
    "hash": "a6932bc458483f3a29ec9950cf6424a2de735a02e9ad154ae63ded39f0fad700"
   }
  }
 },
 "nbformat": 4,
 "nbformat_minor": 5
}
