{
 "cells": [
  {
   "cell_type": "markdown",
   "id": "af9dd826",
   "metadata": {},
   "source": [
    "# Optimizer for Constrained Functions R² -> R"
   ]
  },
  {
   "cell_type": "markdown",
   "id": "2726e005",
   "metadata": {},
   "source": [
    "Simple Python Implementation of Newton/Gradient methods."
   ]
  },
  {
   "cell_type": "markdown",
   "id": "6c394136",
   "metadata": {},
   "source": [
    "## Objective"
   ]
  },
  {
   "cell_type": "markdown",
   "id": "c63da727",
   "metadata": {},
   "source": [
    "Given an input of a point in the R² domain, an objective function, a direction of optmization(max, min), a list of constraints k and arbitraty numbers(number small enough and iterations limit) at each iteration finding a better point until find the best one, if possible.\n",
    "\n"
   ]
  },
  {
   "cell_type": "markdown",
   "id": "e14a21a4",
   "metadata": {},
   "source": [
    "## Specifications\n"
   ]
  },
  {
   "cell_type": "markdown",
   "id": "72686b59",
   "metadata": {},
   "source": [
    "With the inputs the following steps are made:\n",
    "\n"
   ]
  },
  {
   "cell_type": "markdown",
   "id": "fc41befd",
   "metadata": {},
   "source": [
    "### 1 - Check if there's a Feasible Region"
   ]
  },
  {
   "cell_type": "code",
   "execution_count": 2,
   "id": "0a0c4e7c",
   "metadata": {},
   "outputs": [
    {
     "ename": "SyntaxError",
     "evalue": "unexpected EOF while parsing (2682153486.py, line 2)",
     "output_type": "error",
     "traceback": [
      "\u001b[0;36m  Cell \u001b[0;32mIn[2], line 2\u001b[0;36m\u001b[0m\n\u001b[0;31m    #todo\u001b[0m\n\u001b[0m         ^\u001b[0m\n\u001b[0;31mSyntaxError\u001b[0m\u001b[0;31m:\u001b[0m unexpected EOF while parsing\n"
     ]
    }
   ],
   "source": [
    "def checkFeasibility(constraintsList):\n",
    "    #todo"
   ]
  },
  {
   "cell_type": "markdown",
   "id": "ea5838f8",
   "metadata": {},
   "source": [
    "### 2 - Iterate over "
   ]
  },
  {
   "cell_type": "code",
   "execution_count": null,
   "id": "c73b9667",
   "metadata": {},
   "outputs": [],
   "source": [
    "def nextPoint(currentPoint, objectiveFunction, minOrMax, constraintsList, kwargs):\n",
    "    if (kwargs.iterationLimit = 0): \n",
    "        return currentPoint, \"Iteration Limit Reached\"\n",
    "    evaluation = #todo\n",
    "    if (kwargs.backEvaluation - evaluation <= kwargs.epsolon*minOrMax && kwargs.stepSize <= kwargs.epsolon): \n",
    "        return currentPoint, \"\"\n",
    "    direction = #todo\n",
    "    stepSize = #todo\n",
    "    newPoint = #todo\n",
    "    return nextPoint(newPoint, objectiveFunction, minOrMax, constraintsList, kwargs\"\"\"modfyied\"\"\")"
   ]
  },
  {
   "cell_type": "markdown",
   "id": "f8917642",
   "metadata": {},
   "source": [
    "## Some Functions"
   ]
  },
  {
   "cell_type": "markdown",
   "id": "65576a2f",
   "metadata": {},
   "source": [
    "## Some Constraints\n"
   ]
  },
  {
   "cell_type": "markdown",
   "id": "31006df6",
   "metadata": {},
   "source": [
    "## Results\n"
   ]
  }
 ],
 "metadata": {
  "kernelspec": {
   "display_name": "Python 3 (ipykernel)",
   "language": "python",
   "name": "python3"
  },
  "language_info": {
   "codemirror_mode": {
    "name": "ipython",
    "version": 3
   },
   "file_extension": ".py",
   "mimetype": "text/x-python",
   "name": "python",
   "nbconvert_exporter": "python",
   "pygments_lexer": "ipython3",
   "version": "3.8.10"
  }
 },
 "nbformat": 4,
 "nbformat_minor": 5
}
